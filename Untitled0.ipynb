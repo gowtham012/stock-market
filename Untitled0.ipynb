{
  "nbformat": 4,
  "nbformat_minor": 0,
  "metadata": {
    "colab": {
      "name": "Untitled0.ipynb",
      "provenance": []
    },
    "kernelspec": {
      "name": "python3",
      "display_name": "Python 3"
    }
  },
  "cells": [
    {
      "cell_type": "code",
      "metadata": {
        "colab": {
          "base_uri": "https://localhost:8080/",
          "height": 282
        },
        "id": "odlOQ2XVHEus",
        "outputId": "179ae91a-2dd9-43f5-ed9a-f1a4efab7978"
      },
      "source": [
        "k='c8400ee38246f47684ed6dfd16d38da57393506c'\n",
        "import pandas_datareader as pdr\n",
        "import pandas as pd\n",
        "import matplotlib.pyplot as plt\n",
        "df=pdr.get_data_tiingo('AAPL',api_key=k)\n",
        "df.to_csv('AAPL.csv')\n",
        "df=pd.read_csv('AAPL.csv')\n",
        "df.head()\n",
        "df1=df.reset_index()['close']\n",
        "df1[1228:]\n",
        "plt.plot(df1)"
      ],
      "execution_count": null,
      "outputs": [
        {
          "output_type": "execute_result",
          "data": {
            "text/plain": [
              "[<matplotlib.lines.Line2D at 0x7f4d3984d0b8>]"
            ]
          },
          "metadata": {
            "tags": []
          },
          "execution_count": 1
        },
        {
          "output_type": "display_data",
          "data": {
            "image/png": "[encoded data removed]",
            "text/plain": [
              "<Figure size 432x288 with 1 Axes>"
            ]
          },
          "metadata": {
            "tags": [],
            "needs_background": "light"
          }
        }
      ]
    },
    {
      "cell_type": "code",
      "metadata": {
        "id": "T00b2nPTPXjy",
        "colab": {
          "base_uri": "https://localhost:8080/",
          "height": 204
        },
        "outputId": "c3627b2b-e2f1-4308-85b3-aa04c607b83c"
      },
      "source": [
        "df.tail()"
      ],
      "execution_count": null,
      "outputs": [
        {
          "output_type": "execute_result",
          "data": {
            "text/html": [
              "<div>\n",
              "<style scoped>\n",
              "    .dataframe tbody tr th:only-of-type {\n",
              "        vertical-align: middle;\n",
              "    }\n",
              "\n",
              "    .dataframe tbody tr th {\n",
              "        vertical-align: top;\n",
              "    }\n",
              "\n",
              "    .dataframe thead th {\n",
              "        text-align: right;\n",
              "    }\n",
              "</style>\n",
              "<table border=\"1\" class=\"dataframe\">\n",
              "  <thead>\n",
              "    <tr style=\"text-align: right;\">\n",
              "      <th></th>\n",
              "      <th>symbol</th>\n",
              "      <th>date</th>\n",
              "      <th>close</th>\n",
              "      <th>high</th>\n",
              "      <th>low</th>\n",
              "      <th>open</th>\n",
              "      <th>volume</th>\n",
              "      <th>adjClose</th>\n",
              "      <th>adjHigh</th>\n",
              "      <th>adjLow</th>\n",
              "      <th>adjOpen</th>\n",
              "      <th>adjVolume</th>\n",
              "      <th>divCash</th>\n",
              "      <th>splitFactor</th>\n",
              "    </tr>\n",
              "  </thead>\n",
              "  <tbody>\n",
              "    <tr>\n",
              "      <th>1253</th>\n",
              "      <td>AAPL</td>\n",
              "      <td>2021-01-14 00:00:00+00:00</td>\n",
              "      <td>128.91</td>\n",
              "      <td>131.0000</td>\n",
              "      <td>128.760</td>\n",
              "      <td>130.80</td>\n",
              "      <td>90221755</td>\n",
              "      <td>128.91</td>\n",
              "      <td>131.0000</td>\n",
              "      <td>128.760</td>\n",
              "      <td>130.80</td>\n",
              "      <td>90221755</td>\n",
              "      <td>0.0</td>\n",
              "      <td>1.0</td>\n",
              "    </tr>\n",
              "    <tr>\n",
              "      <th>1254</th>\n",
              "      <td>AAPL</td>\n",
              "      <td>2021-01-15 00:00:00+00:00</td>\n",
              "      <td>127.14</td>\n",
              "      <td>130.2242</td>\n",
              "      <td>127.000</td>\n",
              "      <td>128.78</td>\n",
              "      <td>111598531</td>\n",
              "      <td>127.14</td>\n",
              "      <td>130.2242</td>\n",
              "      <td>127.000</td>\n",
              "      <td>128.78</td>\n",
              "      <td>111598531</td>\n",
              "      <td>0.0</td>\n",
              "      <td>1.0</td>\n",
              "    </tr>\n",
              "    <tr>\n",
              "      <th>1255</th>\n",
              "      <td>AAPL</td>\n",
              "      <td>2021-01-19 00:00:00+00:00</td>\n",
              "      <td>127.83</td>\n",
              "      <td>128.7100</td>\n",
              "      <td>126.938</td>\n",
              "      <td>127.78</td>\n",
              "      <td>90757329</td>\n",
              "      <td>127.83</td>\n",
              "      <td>128.7100</td>\n",
              "      <td>126.938</td>\n",
              "      <td>127.78</td>\n",
              "      <td>90757329</td>\n",
              "      <td>0.0</td>\n",
              "      <td>1.0</td>\n",
              "    </tr>\n",
              "    <tr>\n",
              "      <th>1256</th>\n",
              "      <td>AAPL</td>\n",
              "      <td>2021-01-20 00:00:00+00:00</td>\n",
              "      <td>132.03</td>\n",
              "      <td>132.4900</td>\n",
              "      <td>128.550</td>\n",
              "      <td>128.66</td>\n",
              "      <td>104319489</td>\n",
              "      <td>132.03</td>\n",
              "      <td>132.4900</td>\n",
              "      <td>128.550</td>\n",
              "      <td>128.66</td>\n",
              "      <td>104319489</td>\n",
              "      <td>0.0</td>\n",
              "      <td>1.0</td>\n",
              "    </tr>\n",
              "    <tr>\n",
              "      <th>1257</th>\n",
              "      <td>AAPL</td>\n",
              "      <td>2021-01-21 00:00:00+00:00</td>\n",
              "      <td>136.87</td>\n",
              "      <td>139.6700</td>\n",
              "      <td>133.590</td>\n",
              "      <td>133.80</td>\n",
              "      <td>120529544</td>\n",
              "      <td>136.87</td>\n",
              "      <td>139.6700</td>\n",
              "      <td>133.590</td>\n",
              "      <td>133.80</td>\n",
              "      <td>120529544</td>\n",
              "      <td>0.0</td>\n",
              "      <td>1.0</td>\n",
              "    </tr>\n",
              "  </tbody>\n",
              "</table>\n",
              "</div>"
            ],
            "text/plain": [
              "     symbol                       date   close  ...  adjVolume  divCash  splitFactor\n",
              "1253   AAPL  2021-01-14 00:00:00+00:00  128.91  ...   90221755      0.0          1.0\n",
              "1254   AAPL  2021-01-15 00:00:00+00:00  127.14  ...  111598531      0.0          1.0\n",
              "1255   AAPL  2021-01-19 00:00:00+00:00  127.83  ...   90757329      0.0          1.0\n",
              "1256   AAPL  2021-01-20 00:00:00+00:00  132.03  ...  104319489      0.0          1.0\n",
              "1257   AAPL  2021-01-21 00:00:00+00:00  136.87  ...  120529544      0.0          1.0\n",
              "\n",
              "[5 rows x 14 columns]"
            ]
          },
          "metadata": {
            "tags": []
          },
          "execution_count": 2
        }
      ]
    },
    {
      "cell_type": "code",
      "metadata": {
        "id": "Gxr3tMzLJYaT"
      },
      "source": [
        "import numpy as np"
      ],
      "execution_count": null,
      "outputs": []
    },
    {
      "cell_type": "code",
      "metadata": {
        "id": "Z_PG8qAoJoC2"
      },
      "source": [
        "from sklearn.preprocessing import MinMaxScaler\n",
        "scalar=MinMaxScaler(feature_range=(0,1))\n",
        "df1=scalar.fit_transform(np.array(df1).reshape(-1,1))"
      ],
      "execution_count": null,
      "outputs": []
    },
    {
      "cell_type": "code",
      "metadata": {
        "colab": {
          "base_uri": "https://localhost:8080/"
        },
        "id": "iydIrvK4LG8Q",
        "outputId": "2ca805a8-828d-44c5-94e7-c0e98c796207"
      },
      "source": [
        "df1"
      ],
      "execution_count": null,
      "outputs": [
        {
          "output_type": "execute_result",
          "data": {
            "text/plain": [
              "array([[0.06212868],\n",
              "       [0.05493686],\n",
              "       [0.05325316],\n",
              "       ...,\n",
              "       [0.07841251],\n",
              "       [0.07675286],\n",
              "       [0.08036079]])"
            ]
          },
          "metadata": {
            "tags": []
          },
          "execution_count": 23
        }
      ]
    },
    {
      "cell_type": "code",
      "metadata": {
        "id": "rSctADjxLVj7"
      },
      "source": [
        "train_size = int(len(df1)*0.65)\n",
        "test_size=len(df1)-train_size\n",
        "train_data,test_data=df1[0:train_size,:],df1[train_size:len(df1),:1]"
      ],
      "execution_count": null,
      "outputs": []
    },
    {
      "cell_type": "code",
      "metadata": {
        "colab": {
          "base_uri": "https://localhost:8080/"
        },
        "id": "pmDNNl6VPDOr",
        "outputId": "526b2315-c91b-40c8-d902-f13edb21290b"
      },
      "source": [
        "train_size,test_size"
      ],
      "execution_count": null,
      "outputs": [
        {
          "output_type": "execute_result",
          "data": {
            "text/plain": [
              "(817, 440)"
            ]
          },
          "metadata": {
            "tags": []
          },
          "execution_count": 25
        }
      ]
    },
    {
      "cell_type": "code",
      "metadata": {
        "colab": {
          "base_uri": "https://localhost:8080/"
        },
        "id": "VA1oUwhyPJAm",
        "outputId": "b4ed8716-f45f-4baf-d814-c1c5f946b022"
      },
      "source": [
        "train_data"
      ],
      "execution_count": null,
      "outputs": [
        {
          "output_type": "execute_result",
          "data": {
            "text/plain": [
              "array([[0.06212868],\n",
              "       [0.05493686],\n",
              "       [0.05325316],\n",
              "       [0.04846663],\n",
              "       [0.05051112],\n",
              "       [0.04483464],\n",
              "       [0.03773903],\n",
              "       [0.0408659 ],\n",
              "       [0.04062538],\n",
              "       [0.04394468],\n",
              "       [0.04254961],\n",
              "       [0.03963921],\n",
              "       [0.04425737],\n",
              "       [0.04084185],\n",
              "       [0.03588695],\n",
              "       [0.03610343],\n",
              "       [0.02975346],\n",
              "       [0.02491882],\n",
              "       [0.01469633],\n",
              "       [0.01592303],\n",
              "       [0.01969934],\n",
              "       [0.02313891],\n",
              "       [0.01695731],\n",
              "       [0.02208058],\n",
              "       [0.01633193],\n",
              "       [0.01520144],\n",
              "       [0.01551413],\n",
              "       [0.01433554],\n",
              "       [0.02665063],\n",
              "       [0.02188815],\n",
              "       [0.02321106],\n",
              "       [0.0074083 ],\n",
              "       [0.00901984],\n",
              "       [0.01683704],\n",
              "       [0.01464823],\n",
              "       [0.00995791],\n",
              "       [0.0144558 ],\n",
              "       [0.01505713],\n",
              "       [0.00885147],\n",
              "       [0.01123271],\n",
              "       [0.01118461],\n",
              "       [0.0094528 ],\n",
              "       [0.00808178],\n",
              "       [0.00877931],\n",
              "       [0.01515334],\n",
              "       [0.01871317],\n",
              "       [0.01423933],\n",
              "       [0.01371016],\n",
              "       [0.01573061],\n",
              "       [0.01046302],\n",
              "       [0.01385448],\n",
              "       [0.01544197],\n",
              "       [0.01580277],\n",
              "       [0.0152736 ],\n",
              "       [0.02450992],\n",
              "       [0.02503909],\n",
              "       [0.02684305],\n",
              "       [0.03047505],\n",
              "       [0.02773301],\n",
              "       [0.02571257],\n",
              "       [0.02592904],\n",
              "       [0.02604931],\n",
              "       [0.02867108],\n",
              "       [0.02929645],\n",
              "       [0.03425135],\n",
              "       [0.03759471],\n",
              "       [0.03718581],\n",
              "       [0.03747444],\n",
              "       [0.03745039],\n",
              "       [0.03939868],\n",
              "       [0.03797956],\n",
              "       [0.03687312],\n",
              "       [0.03571858],\n",
              "       [0.04170776],\n",
              "       [0.04622971],\n",
              "       [0.04485869],\n",
              "       [0.04726398],\n",
              "       [0.04998196],\n",
              "       [0.04683103],\n",
              "       [0.04959711],\n",
              "       [0.04377631],\n",
              "       [0.04406494],\n",
              "       [0.04493085],\n",
              "       [0.04834636],\n",
              "       [0.05219483],\n",
              "       [0.05233915],\n",
              "       [0.04692724],\n",
              "       [0.0412267 ],\n",
              "       [0.03985568],\n",
              "       [0.04038485],\n",
              "       [0.03759471],\n",
              "       [0.03689717],\n",
              "       [0.035454  ],\n",
              "       [0.03369814],\n",
              "       [0.01799158],\n",
              "       [0.01079976],\n",
              "       [0.00817799],\n",
              "       [0.00793746],\n",
              "       [0.01164161],\n",
              "       [0.00926037],\n",
              "       [0.00697535],\n",
              "       [0.00572459],\n",
              "       [0.00589296],\n",
              "       [0.0074083 ],\n",
              "       [0.00521948],\n",
              "       [0.        ],\n",
              "       [0.00043295],\n",
              "       [0.00851473],\n",
              "       [0.00757667],\n",
              "       [0.01015033],\n",
              "       [0.00928443],\n",
              "       [0.01173782],\n",
              "       [0.01464823],\n",
              "       [0.018184  ],\n",
              "       [0.02232111],\n",
              "       [0.02422129],\n",
              "       [0.02407697],\n",
              "       [0.02289838],\n",
              "       [0.01953097],\n",
              "       [0.01775105],\n",
              "       [0.01823211],\n",
              "       [0.01993987],\n",
              "       [0.02090198],\n",
              "       [0.02068551],\n",
              "       [0.02239327],\n",
              "       [0.02042093],\n",
              "       [0.01683704],\n",
              "       [0.01712568],\n",
              "       [0.01635598],\n",
              "       [0.01734215],\n",
              "       [0.01200241],\n",
              "       [0.01144919],\n",
              "       [0.01339747],\n",
              "       [0.01253157],\n",
              "       [0.01385448],\n",
              "       [0.00736019],\n",
              "       [0.004089  ],\n",
              "       [0.0078172 ],\n",
              "       [0.00976548],\n",
              "       [0.01265183],\n",
              "       [0.01334937],\n",
              "       [0.01118461],\n",
              "       [0.01248346],\n",
              "       [0.01346963],\n",
              "       [0.01524955],\n",
              "       [0.01597114],\n",
              "       [0.01702946],\n",
              "       [0.01570655],\n",
              "       [0.02032471],\n",
              "       [0.02030066],\n",
              "       [0.02282622],\n",
              "       [0.02292243],\n",
              "       [0.02313891],\n",
              "       [0.0218641 ],\n",
              "       [0.02001203],\n",
              "       [0.01683704],\n",
              "       [0.0152255 ],\n",
              "       [0.03033073],\n",
              "       [0.03367408],\n",
              "       [0.0333614 ],\n",
              "       [0.03778713],\n",
              "       [0.03401082],\n",
              "       [0.03716176],\n",
              "       [0.03735418],\n",
              "       [0.0412267 ],\n",
              "       [0.04336741],\n",
              "       [0.04442574],\n",
              "       [0.04247745],\n",
              "       [0.04230908],\n",
              "       [0.0429104 ],\n",
              "       [0.04603728],\n",
              "       [0.04579675],\n",
              "       [0.04541191],\n",
              "       [0.04507517],\n",
              "       [0.04574865],\n",
              "       [0.04370415],\n",
              "       [0.04452195],\n",
              "       [0.04254961],\n",
              "       [0.04144317],\n",
              "       [0.03992784],\n",
              "       [0.03963921],\n",
              "       [0.03766687],\n",
              "       [0.0379074 ],\n",
              "       [0.03942273],\n",
              "       [0.04182802],\n",
              "       [0.04175586],\n",
              "       [0.04334336],\n",
              "       [0.03651233],\n",
              "       [0.03076368],\n",
              "       [0.0363199 ],\n",
              "       [0.04235719],\n",
              "       [0.0515454 ],\n",
              "       [0.06068551],\n",
              "       [0.05912207],\n",
              "       [0.05589898],\n",
              "       [0.05587492],\n",
              "       [0.05582682],\n",
              "       [0.05840048],\n",
              "       [0.05380637],\n",
              "       [0.05421527],\n",
              "       [0.05472038],\n",
              "       [0.05678894],\n",
              "       [0.05253157],\n",
              "       [0.05462417],\n",
              "       [0.05334937],\n",
              "       [0.05450391],\n",
              "       [0.05462417],\n",
              "       [0.05664462],\n",
              "       [0.05705352],\n",
              "       [0.06184005],\n",
              "       [0.06244137],\n",
              "       [0.06494287],\n",
              "       [0.06407697],\n",
              "       [0.06564041],\n",
              "       [0.06544799],\n",
              "       [0.06525556],\n",
              "       [0.06441371],\n",
              "       [0.06426939],\n",
              "       [0.06316296],\n",
              "       [0.06568851],\n",
              "       [0.06713169],\n",
              "       [0.06073361],\n",
              "       [0.05806374],\n",
              "       [0.05623572],\n",
              "       [0.05580277],\n",
              "       [0.05087192],\n",
              "       [0.05111245],\n",
              "       [0.04687913],\n",
              "       [0.0444979 ],\n",
              "       [0.0482742 ],\n",
              "       [0.04983764],\n",
              "       [0.04940469],\n",
              "       [0.04197234],\n",
              "       [0.04351173],\n",
              "       [0.03696933],\n",
              "       [0.04033674],\n",
              "       [0.04726398],\n",
              "       [0.04716777],\n",
              "       [0.04743235],\n",
              "       [0.05144919],\n",
              "       [0.05161756],\n",
              "       [0.05024654],\n",
              "       [0.05159351],\n",
              "       [0.05106434],\n",
              "       [0.05079976],\n",
              "       [0.04853879],\n",
              "       [0.04606133],\n",
              "       [0.0470475 ],\n",
              "       [0.04514732],\n",
              "       [0.04716777],\n",
              "       [0.04976548],\n",
              "       [0.05238725],\n",
              "       [0.05678894],\n",
              "       [0.0552255 ],\n",
              "       [0.0597715 ],\n",
              "       [0.0597715 ],\n",
              "       [0.06128683],\n",
              "       [0.06164762],\n",
              "       [0.06325917],\n",
              "       [0.06400481],\n",
              "       [0.06426939],\n",
              "       [0.06241732],\n",
              "       [0.06297054],\n",
              "       [0.06475045],\n",
              "       [0.06354781],\n",
              "       [0.06347565],\n",
              "       [0.06128683],\n",
              "       [0.06208058],\n",
              "       [0.06176789],\n",
              "       [0.06318701],\n",
              "       [0.06631389],\n",
              "       [0.06891161],\n",
              "       [0.06920024],\n",
              "       [0.07073963],\n",
              "       [0.06953698],\n",
              "       [0.06903187],\n",
              "       [0.07134095],\n",
              "       [0.0713169 ],\n",
              "       [0.07081179],\n",
              "       [0.07134095],\n",
              "       [0.07153337],\n",
              "       [0.07126879],\n",
              "       [0.0758629 ],\n",
              "       [0.07600722],\n",
              "       [0.07603127],\n",
              "       [0.07526158],\n",
              "       [0.07458809],\n",
              "       [0.09238725],\n",
              "       [0.09185809],\n",
              "       [0.093181  ],\n",
              "       [0.0960914 ],\n",
              "       [0.09907396],\n",
              "       [0.10030066],\n",
              "       [0.10121467],\n",
              "       [0.10049308],\n",
              "       [0.10330728],\n",
              "       [0.10746843],\n",
              "       [0.10864702],\n",
              "       [0.10825015],\n",
              "       [0.10915213],\n",
              "       [0.11150932],\n",
              "       [0.11249549],\n",
              "       [0.11110042],\n",
              "       [0.11141311],\n",
              "       [0.11206254],\n",
              "       [0.11220686],\n",
              "       [0.11894167],\n",
              "       [0.11694528],\n",
              "       [0.11891762],\n",
              "       [0.11785929],\n",
              "       [0.11829224],\n",
              "       [0.11704149],\n",
              "       [0.1162718 ],\n",
              "       [0.11737823],\n",
              "       [0.11752255],\n",
              "       [0.11701744],\n",
              "       [0.12055322],\n",
              "       [0.12110643],\n",
              "       [0.11942273],\n",
              "       [0.12295851],\n",
              "       [0.11906194],\n",
              "       [0.1228623 ],\n",
              "       [0.12165965],\n",
              "       [0.12098617],\n",
              "       [0.12156344],\n",
              "       [0.12858689],\n",
              "       [0.12935658],\n",
              "       [0.12889958],\n",
              "       [0.12825015],\n",
              "       [0.12834636],\n",
              "       [0.13092002],\n",
              "       [0.12911606],\n",
              "       [0.12825015],\n",
              "       [0.12748046],\n",
              "       [0.12707156],\n",
              "       [0.12336741],\n",
              "       [0.12377631],\n",
              "       [0.12197234],\n",
              "       [0.12384847],\n",
              "       [0.12233313],\n",
              "       [0.12108238],\n",
              "       [0.12531569],\n",
              "       [0.12490679],\n",
              "       [0.12820204],\n",
              "       [0.13034275],\n",
              "       [0.12829826],\n",
              "       [0.12856284],\n",
              "       [0.1282261 ],\n",
              "       [0.1352736 ],\n",
              "       [0.13751052],\n",
              "       [0.13642814],\n",
              "       [0.13515334],\n",
              "       [0.1409982 ],\n",
              "       [0.15073963],\n",
              "       [0.15309681],\n",
              "       [0.15134095],\n",
              "       [0.1530006 ],\n",
              "       [0.15817198],\n",
              "       [0.15720986],\n",
              "       [0.15665664],\n",
              "       [0.14410102],\n",
              "       [0.14960914],\n",
              "       [0.15085989],\n",
              "       [0.15309681],\n",
              "       [0.15263981],\n",
              "       [0.15153337],\n",
              "       [0.15280818],\n",
              "       [0.1521828 ],\n",
              "       [0.15232712],\n",
              "       [0.1501383 ],\n",
              "       [0.15114853],\n",
              "       [0.15660854],\n",
              "       [0.1529525 ],\n",
              "       [0.15420325],\n",
              "       [0.15641612],\n",
              "       [0.1555021 ],\n",
              "       [0.1410463 ],\n",
              "       [0.13248346],\n",
              "       [0.13529765],\n",
              "       [0.13185809],\n",
              "       [0.12976548],\n",
              "       [0.12490679],\n",
              "       [0.13469633],\n",
              "       [0.13149729],\n",
              "       [0.13356584],\n",
              "       [0.13298857],\n",
              "       [0.13455201],\n",
              "       [0.13344558],\n",
              "       [0.12841852],\n",
              "       [0.13346963],\n",
              "       [0.12829826],\n",
              "       [0.12911606],\n",
              "       [0.1278653 ],\n",
              "       [0.12928443],\n",
              "       [0.12601323],\n",
              "       [0.1295009 ],\n",
              "       [0.13161756],\n",
              "       [0.13274805],\n",
              "       [0.13325316],\n",
              "       [0.1381359 ],\n",
              "       [0.14119062],\n",
              "       [0.14244137],\n",
              "       [0.14369212],\n",
              "       [0.1459531 ],\n",
              "       [0.1443175 ],\n",
              "       [0.14414913],\n",
              "       [0.14852676],\n",
              "       [0.1500902 ],\n",
              "       [0.15182201],\n",
              "       [0.14484666],\n",
              "       [0.14229705],\n",
              "       [0.14044498],\n",
              "       [0.14361996],\n",
              "       [0.16067348],\n",
              "       [0.15689717],\n",
              "       [0.15886951],\n",
              "       [0.16469032],\n",
              "       [0.16774504],\n",
              "       [0.17010222],\n",
              "       [0.15629585],\n",
              "       [0.16149128],\n",
              "       [0.16719182],\n",
              "       [0.17140108],\n",
              "       [0.16983764],\n",
              "       [0.16240529],\n",
              "       [0.16153939],\n",
              "       [0.16084185],\n",
              "       [0.16702345],\n",
              "       [0.16750451],\n",
              "       [0.16579675],\n",
              "       [0.16721587],\n",
              "       [0.17108839],\n",
              "       [0.17455201],\n",
              "       [0.17561034],\n",
              "       [0.17717378],\n",
              "       [0.17729405],\n",
              "       [0.17255562],\n",
              "       [0.17214672],\n",
              "       [0.17058328],\n",
              "       [0.16425737],\n",
              "       [0.17116055],\n",
              "       [0.16962117],\n",
              "       [0.16671076],\n",
              "       [0.16341551],\n",
              "       [0.16726398],\n",
              "       [0.16435358],\n",
              "       [0.1644979 ],\n",
              "       [0.15809982],\n",
              "       [0.15165364],\n",
              "       [0.1480457 ],\n",
              "       [0.14482261],\n",
              "       [0.15105232],\n",
              "       [0.15367408],\n",
              "       [0.15138906],\n",
              "       [0.1534095 ],\n",
              "       [0.15266386],\n",
              "       [0.15427541],\n",
              "       [0.15187011],\n",
              "       [0.15646422],\n",
              "       [0.15624775],\n",
              "       [0.1575466 ],\n",
              "       [0.15769092],\n",
              "       [0.15925436],\n",
              "       [0.15793145],\n",
              "       [0.16031269],\n",
              "       [0.16726398],\n",
              "       [0.1686831 ],\n",
              "       [0.16697535],\n",
              "       [0.15788334],\n",
              "       [0.15853277],\n",
              "       [0.15834035],\n",
              "       [0.16057727],\n",
              "       [0.15891762],\n",
              "       [0.16132291],\n",
              "       [0.17488876],\n",
              "       [0.18371618],\n",
              "       [0.18929645],\n",
              "       [0.18412508],\n",
              "       [0.18705953],\n",
              "       [0.19761876],\n",
              "       [0.20182802],\n",
              "       [0.20317498],\n",
              "       [0.20661455],\n",
              "       [0.20574865],\n",
              "       [0.20283824],\n",
              "       [0.20115454],\n",
              "       [0.19482862],\n",
              "       [0.18939266],\n",
              "       [0.19425135],\n",
              "       [0.19196633],\n",
              "       [0.19155743],\n",
              "       [0.19915815],\n",
              "       [0.20353578],\n",
              "       [0.20355983],\n",
              "       [0.20144317],\n",
              "       [0.19898978],\n",
              "       [0.19035478],\n",
              "       [0.19605532],\n",
              "       [0.19413109],\n",
              "       [0.19112447],\n",
              "       [0.19073963],\n",
              "       [0.18922429],\n",
              "       [0.18996993],\n",
              "       [0.1900902 ],\n",
              "       [0.19802766],\n",
              "       [0.19569453],\n",
              "       [0.19706554],\n",
              "       [0.19694528],\n",
              "       [0.20115454],\n",
              "       [0.2070475 ],\n",
              "       [0.20252556],\n",
              "       [0.20206855],\n",
              "       [0.20365604],\n",
              "       [0.20365604],\n",
              "       [0.19297655],\n",
              "       [0.19304871],\n",
              "       [0.19420325],\n",
              "       [0.18975346],\n",
              "       [0.19704149],\n",
              "       [0.19696933],\n",
              "       [0.19889357],\n",
              "       [0.20363199],\n",
              "       [0.20206855],\n",
              "       [0.20202044],\n",
              "       [0.20192423],\n",
              "       [0.20430547],\n",
              "       [0.20865905],\n",
              "       [0.20649429],\n",
              "       [0.21349369],\n",
              "       [0.21387853],\n",
              "       [0.2119543 ],\n",
              "       [0.20844257],\n",
              "       [0.20853879],\n",
              "       [0.20175586],\n",
              "       [0.19427541],\n",
              "       [0.19523752],\n",
              "       [0.18669874],\n",
              "       [0.1843175 ],\n",
              "       [0.18542393],\n",
              "       [0.18626578],\n",
              "       [0.16875526],\n",
              "       [0.15911004],\n",
              "       [0.17484065],\n",
              "       [0.16644618],\n",
              "       [0.15588695],\n",
              "       [0.15891762],\n",
              "       [0.17407096],\n",
              "       [0.17799158],\n",
              "       [0.18527962],\n",
              "       [0.19879735],\n",
              "       [0.19745039],\n",
              "       [0.19605532],\n",
              "       [0.19417919],\n",
              "       [0.19761876],\n",
              "       [0.20483464],\n",
              "       [0.213181  ],\n",
              "       [0.21178593],\n",
              "       [0.2111365 ],\n",
              "       [0.20363199],\n",
              "       [0.20654239],\n",
              "       [0.20800962],\n",
              "       [0.20764883],\n",
              "       [0.20370415],\n",
              "       [0.20829826],\n",
              "       [0.21561034],\n",
              "       [0.21979555],\n",
              "       [0.21558629],\n",
              "       [0.21190619],\n",
              "       [0.2124113 ],\n",
              "       [0.21089597],\n",
              "       [0.20435358],\n",
              "       [0.20420926],\n",
              "       [0.19466025],\n",
              "       [0.18883945],\n",
              "       [0.17943476],\n",
              "       [0.19826819],\n",
              "       [0.18761275],\n",
              "       [0.18313891],\n",
              "       [0.18626578],\n",
              "       [0.18361996],\n",
              "       [0.18773301],\n",
              "       [0.19547805],\n",
              "       [0.19834035],\n",
              "       [0.18770896],\n",
              "       [0.1917258 ],\n",
              "       [0.19942273],\n",
              "       [0.19747444],\n",
              "       [0.20156344],\n",
              "       [0.20298256],\n",
              "       [0.20560433],\n",
              "       [0.21142514],\n",
              "       [0.21046302],\n",
              "       [0.19834035],\n",
              "       [0.18131088],\n",
              "       [0.18015634],\n",
              "       [0.17462417],\n",
              "       [0.17633193],\n",
              "       [0.17770295],\n",
              "       [0.17313289],\n",
              "       [0.18020445],\n",
              "       [0.18944077],\n",
              "       [0.2074083 ],\n",
              "       [0.20817799],\n",
              "       [0.22487072],\n",
              "       [0.22806975],\n",
              "       [0.23021046],\n",
              "       [0.2333614 ],\n",
              "       [0.23980758],\n",
              "       [0.2363199 ],\n",
              "       [0.23526158],\n",
              "       [0.23114853],\n",
              "       [0.23533373],\n",
              "       [0.23247144],\n",
              "       [0.23083584],\n",
              "       [0.23401082],\n",
              "       [0.23288034],\n",
              "       [0.23576669],\n",
              "       [0.23526158],\n",
              "       [0.23629585],\n",
              "       [0.23466025],\n",
              "       [0.23369814],\n",
              "       [0.2321828 ],\n",
              "       [0.24028863],\n",
              "       [0.24411305],\n",
              "       [0.24767288],\n",
              "       [0.24928443],\n",
              "       [0.24803367],\n",
              "       [0.24380036],\n",
              "       [0.24266987],\n",
              "       [0.24519543],\n",
              "       [0.24139507],\n",
              "       [0.2416356 ],\n",
              "       [0.23692123],\n",
              "       [0.2366807 ],\n",
              "       [0.22934456],\n",
              "       [0.23129284],\n",
              "       [0.22879134],\n",
              "       [0.22749248],\n",
              "       [0.22087793],\n",
              "       [0.22631389],\n",
              "       [0.22566446],\n",
              "       [0.22888755],\n",
              "       [0.22794949],\n",
              "       [0.23292844],\n",
              "       [0.22508719],\n",
              "       [0.22864702],\n",
              "       [0.23482862],\n",
              "       [0.24110643],\n",
              "       [0.24055322],\n",
              "       [0.23461215],\n",
              "       [0.24218882],\n",
              "       [0.2429104 ],\n",
              "       [0.24190018],\n",
              "       [0.24319904],\n",
              "       [0.24067348],\n",
              "       [0.24423331],\n",
              "       [0.24317498],\n",
              "       [0.24358388],\n",
              "       [0.24692724],\n",
              "       [0.25130487],\n",
              "       [0.24983764],\n",
              "       [0.24206855],\n",
              "       [0.23949489],\n",
              "       [0.2404089 ],\n",
              "       [0.26737222],\n",
              "       [0.28153939],\n",
              "       [0.28298256],\n",
              "       [0.28558028],\n",
              "       [0.2808659 ],\n",
              "       [0.28120265],\n",
              "       [0.28512327],\n",
              "       [0.28187613],\n",
              "       [0.28509922],\n",
              "       [0.28721587],\n",
              "       [0.28839447],\n",
              "       [0.29580277],\n",
              "       [0.30604931],\n",
              "       [0.30095009],\n",
              "       [0.29993987],\n",
              "       [0.29996392],\n",
              "       [0.30102225],\n",
              "       [0.30263379],\n",
              "       [0.30691521],\n",
              "       [0.31114853],\n",
              "       [0.31903788],\n",
              "       [0.32396873],\n",
              "       [0.33022249],\n",
              "       [0.33197835],\n",
              "       [0.32839447],\n",
              "       [0.31932652],\n",
              "       [0.31499699],\n",
              "       [0.30785328],\n",
              "       [0.32113049],\n",
              "       [0.31444378],\n",
              "       [0.32728803],\n",
              "       [0.32110643],\n",
              "       [0.3067709 ],\n",
              "       [0.3076368 ],\n",
              "       [0.30794949],\n",
              "       [0.31194227],\n",
              "       [0.30624173],\n",
              "       [0.31377029],\n",
              "       [0.3171377 ],\n",
              "       [0.31288034],\n",
              "       [0.32377631],\n",
              "       [0.32567649],\n",
              "       [0.32933253],\n",
              "       [0.33419122],\n",
              "       [0.34090198],\n",
              "       [0.33108839],\n",
              "       [0.32218882],\n",
              "       [0.32093806],\n",
              "       [0.32839447],\n",
              "       [0.30311485],\n",
              "       [0.29852075],\n",
              "       [0.31694528],\n",
              "       [0.30552014],\n",
              "       [0.31704149],\n",
              "       [0.31473241],\n",
              "       [0.30229705],\n",
              "       [0.31021046],\n",
              "       [0.31343355],\n",
              "       [0.31843656],\n",
              "       [0.30006013],\n",
              "       [0.31138906],\n",
              "       [0.30297054],\n",
              "       [0.29320505],\n",
              "       [0.29575466],\n",
              "       [0.30912808],\n",
              "       [0.31720986],\n",
              "       [0.28175586],\n",
              "       [0.2675887 ],\n",
              "       [0.27283223],\n",
              "       [0.28769693],\n",
              "       [0.28418521],\n",
              "       [0.27451594],\n",
              "       [0.24974143],\n",
              "       [0.24507517],\n",
              "       [0.23201443],\n",
              "       [0.24310283],\n",
              "       [0.24820204],\n",
              "       [0.22975346],\n",
              "       [0.20839447],\n",
              "       [0.20791341],\n",
              "       [0.19711365],\n",
              "       [0.20271798],\n",
              "       [0.20180397],\n",
              "       [0.21791942],\n",
              "       [0.21457607],\n",
              "       [0.21224293],\n",
              "       [0.22725195],\n",
              "       [0.20769693],\n",
              "       [0.20295851],\n",
              "       [0.18797354],\n",
              "       [0.19064342],\n",
              "       [0.18831028],\n",
              "       [0.18944077],\n",
              "       [0.19389056],\n",
              "       [0.18073361],\n",
              "       [0.17702946],\n",
              "       [0.18215274],\n",
              "       [0.16969333],\n",
              "       [0.15992784],\n",
              "       [0.14525556],\n",
              "       [0.13587492],\n",
              "       [0.16074564],\n",
              "       [0.15829224],\n",
              "       [0.15848467],\n",
              "       [0.16211666],\n",
              "       [0.16254961],\n",
              "       [0.12471437],\n",
              "       [0.13931449],\n",
              "       [0.13852075],\n",
              "       [0.14530367],\n",
              "       [0.15146121],\n",
              "       [0.15263981],\n",
              "       [0.14900782],\n",
              "       [0.1434997 ],\n",
              "       [0.15088394],\n",
              "       [0.15538184],\n",
              "       [0.15759471],\n",
              "       [0.15990379],\n",
              "       [0.15143716],\n",
              "       [0.15292844],\n",
              "       [0.14999399],\n",
              "       [0.16216476],\n",
              "       [0.15865304],\n",
              "       [0.15475646],\n",
              "       [0.1801804 ],\n",
              "       [0.18304269],\n",
              "       [0.18323512],\n",
              "       [0.19461215],\n",
              "       [0.20165965],\n",
              "       [0.20180397],\n",
              "       [0.19386651],\n",
              "       [0.1925917 ],\n",
              "       [0.19023452],\n",
              "       [0.19374624],\n",
              "       [0.19203848],\n",
              "       [0.19352977],\n",
              "       [0.19261575],\n",
              "       [0.19384245],\n",
              "       [0.19648827],\n",
              "       [0.19415514],\n",
              "       [0.19874925],\n",
              "       [0.20177992],\n",
              "       [0.20202044],\n",
              "       [0.2033193 ],\n",
              "       [0.1991822 ],\n",
              "       [0.20355983],\n",
              "       [0.20567649],\n",
              "       [0.20490679],\n",
              "       [0.20247745],\n",
              "       [0.19761876],\n",
              "       [0.19860493],\n",
              "       [0.21301263],\n",
              "       [0.21784726]])"
            ]
          },
          "metadata": {
            "tags": []
          },
          "execution_count": 26
        }
      ]
    },
    {
      "cell_type": "code",
      "metadata": {
        "id": "Y9i58_efPLlZ"
      },
      "source": [
        "import numpy\n",
        "def create_dataset(dataset,time_step=1):\n",
        "  dataX,dataY=[],[]\n",
        "  for i in range(len(dataset)-time_step-1):\n",
        "    a=dataset[i:(i+time_step),0]\n",
        "    dataX.append(a)\n",
        "    dataY.append(dataset[i+time_step,0])\n",
        "  return numpy.array(dataX),numpy.array(dataY)\n",
        "\n"
      ],
      "execution_count": null,
      "outputs": []
    },
    {
      "cell_type": "code",
      "metadata": {
        "id": "ZHc5gL6VXX6W"
      },
      "source": [
        "time_step=150\n",
        "X_train,y_train = create_dataset(train_data,time_step)\n",
        "X_test,y_test = create_dataset(test_data,time_step)"
      ],
      "execution_count": null,
      "outputs": []
    },
    {
      "cell_type": "code",
      "metadata": {
        "colab": {
          "base_uri": "https://localhost:8080/"
        },
        "id": "czukDSFoX4z2",
        "outputId": "6512e6a2-766a-4930-a53a-92d89ec44bfe"
      },
      "source": [
        "print(X_train)"
      ],
      "execution_count": null,
      "outputs": [
        {
          "output_type": "stream",
          "text": [
            "[[0.06212868 0.05493686 0.05325316 ... 0.01570655 0.02032471 0.02030066]\n",
            " [0.05493686 0.05325316 0.04846663 ... 0.02032471 0.02030066 0.02282622]\n",
            " [0.05325316 0.04846663 0.05051112 ... 0.02030066 0.02282622 0.02292243]\n",
            " ...\n",
            " [0.2404089  0.26737222 0.28153939 ... 0.20567649 0.20490679 0.20247745]\n",
            " [0.26737222 0.28153939 0.28298256 ... 0.20490679 0.20247745 0.19761876]\n",
            " [0.28153939 0.28298256 0.28558028 ... 0.20247745 0.19761876 0.19860493]]\n"
          ],
          "name": "stdout"
        }
      ]
    },
    {
      "cell_type": "code",
      "metadata": {
        "colab": {
          "base_uri": "https://localhost:8080/"
        },
        "id": "S5fL_5TOaoRu",
        "outputId": "de85507f-aec8-40ee-e745-8c5a5b637d25"
      },
      "source": [
        "print(X_test.shape),print(y_test.shape)"
      ],
      "execution_count": null,
      "outputs": [
        {
          "output_type": "stream",
          "text": [
            "(289, 150)\n",
            "(289,)\n"
          ],
          "name": "stdout"
        },
        {
          "output_type": "execute_result",
          "data": {
            "text/plain": [
              "(None, None)"
            ]
          },
          "metadata": {
            "tags": []
          },
          "execution_count": 67
        }
      ]
    },
    {
      "cell_type": "code",
      "metadata": {
        "id": "MSvalLqxa4_q"
      },
      "source": [
        "X_train=X_train.reshape(X_train.shape[0],X_train.shape[1],1)\n",
        "X_test=X_test.reshape(X_test.shape[0],X_test.shape[1],1)"
      ],
      "execution_count": null,
      "outputs": []
    },
    {
      "cell_type": "code",
      "metadata": {
        "id": "1Weg34j0Dmn_"
      },
      "source": [
        "from tensorflow.keras.models import Sequential\n",
        "from tensorflow.keras.layers import Dense\n",
        "from tensorflow.keras.layers import LSTM\n",
        "\n"
      ],
      "execution_count": null,
      "outputs": []
    },
    {
      "cell_type": "code",
      "metadata": {
        "id": "_fr51lNoD6z4"
      },
      "source": [
        "model=Sequential()\n",
        "model.add(LSTM(50,return_sequences=True,input_shape=(100,1)))\n",
        "model.add(LSTM(50,return_sequences=True))\n",
        "model.add(LSTM(50))\n",
        "model.add(Dense(1))\n",
        "model.compile(loss='mean_squared_error',optimizer='adam')"
      ],
      "execution_count": null,
      "outputs": []
    },
    {
      "cell_type": "code",
      "metadata": {
        "colab": {
          "base_uri": "https://localhost:8080/"
        },
        "id": "uBFfb9YSOoDz",
        "outputId": "73497482-fe5f-42a4-8519-14b31b408bf5"
      },
      "source": [
        "model.summary()"
      ],
      "execution_count": null,
      "outputs": [
        {
          "output_type": "stream",
          "text": [
            "Model: \"sequential_2\"\n",
            "_________________________________________________________________\n",
            "Layer (type)                 Output Shape              Param #   \n",
            "=================================================================\n",
            "lstm_6 (LSTM)                (None, 100, 50)           10400     \n",
            "_________________________________________________________________\n",
            "lstm_7 (LSTM)                (None, 100, 50)           20200     \n",
            "_________________________________________________________________\n",
            "lstm_8 (LSTM)                (None, 50)                20200     \n",
            "_________________________________________________________________\n",
            "dense_2 (Dense)              (None, 1)                 51        \n",
            "=================================================================\n",
            "Total params: 50,851\n",
            "Trainable params: 50,851\n",
            "Non-trainable params: 0\n",
            "_________________________________________________________________\n"
          ],
          "name": "stdout"
        }
      ]
    },
    {
      "cell_type": "code",
      "metadata": {
        "colab": {
          "base_uri": "https://localhost:8080/"
        },
        "id": "sJgQUKK-OyCL",
        "outputId": "2b0bb15b-2774-4525-d09e-9481cd2b03e1"
      },
      "source": [
        "model.fit(X_train,y_train,validation_data=(X_test,y_test),epochs=100,batch_size=64,verbose=1 )"
      ],
      "execution_count": null,
      "outputs": [
        {
          "output_type": "stream",
          "text": [
            "Epoch 1/100\n",
            "WARNING:tensorflow:Model was constructed with shape (None, 100, 1) for input Tensor(\"lstm_6_input:0\", shape=(None, 100, 1), dtype=float32), but it was called on an input with incompatible shape (None, 150, 1).\n",
            "WARNING:tensorflow:Model was constructed with shape (None, 100, 1) for input Tensor(\"lstm_6_input:0\", shape=(None, 100, 1), dtype=float32), but it was called on an input with incompatible shape (None, 150, 1).\n",
            "11/11 [==============================] - ETA: 0s - loss: 0.0113WARNING:tensorflow:Model was constructed with shape (None, 100, 1) for input Tensor(\"lstm_6_input:0\", shape=(None, 100, 1), dtype=float32), but it was called on an input with incompatible shape (None, 150, 1).\n",
            "11/11 [==============================] - 4s 331ms/step - loss: 0.0113 - val_loss: 0.0482\n",
            "Epoch 2/100\n",
            "11/11 [==============================] - 3s 268ms/step - loss: 0.0025 - val_loss: 0.0372\n",
            "Epoch 3/100\n",
            "11/11 [==============================] - 3s 246ms/step - loss: 0.0013 - val_loss: 0.0324\n",
            "Epoch 4/100\n",
            "11/11 [==============================] - 3s 247ms/step - loss: 6.0714e-04 - val_loss: 0.0240\n",
            "Epoch 5/100\n",
            "11/11 [==============================] - 3s 246ms/step - loss: 3.8951e-04 - val_loss: 0.0243\n",
            "Epoch 6/100\n",
            "11/11 [==============================] - 3s 246ms/step - loss: 3.3689e-04 - val_loss: 0.0219\n",
            "Epoch 7/100\n",
            "11/11 [==============================] - 3s 251ms/step - loss: 3.2735e-04 - val_loss: 0.0215\n",
            "Epoch 8/100\n",
            "11/11 [==============================] - 3s 249ms/step - loss: 3.2154e-04 - val_loss: 0.0212\n",
            "Epoch 9/100\n",
            "11/11 [==============================] - 3s 252ms/step - loss: 3.1062e-04 - val_loss: 0.0206\n",
            "Epoch 10/100\n",
            "11/11 [==============================] - 3s 249ms/step - loss: 2.9532e-04 - val_loss: 0.0202\n",
            "Epoch 11/100\n",
            "11/11 [==============================] - 3s 248ms/step - loss: 2.8275e-04 - val_loss: 0.0196\n",
            "Epoch 12/100\n",
            "11/11 [==============================] - 3s 249ms/step - loss: 2.7121e-04 - val_loss: 0.0193\n",
            "Epoch 13/100\n",
            "11/11 [==============================] - 3s 247ms/step - loss: 2.7572e-04 - val_loss: 0.0189\n",
            "Epoch 14/100\n",
            "11/11 [==============================] - 3s 253ms/step - loss: 2.7408e-04 - val_loss: 0.0182\n",
            "Epoch 15/100\n",
            "11/11 [==============================] - 3s 258ms/step - loss: 2.6659e-04 - val_loss: 0.0178\n",
            "Epoch 16/100\n",
            "11/11 [==============================] - 3s 257ms/step - loss: 2.4675e-04 - val_loss: 0.0173\n",
            "Epoch 17/100\n",
            "11/11 [==============================] - 3s 255ms/step - loss: 2.2797e-04 - val_loss: 0.0168\n",
            "Epoch 18/100\n",
            "11/11 [==============================] - 3s 252ms/step - loss: 2.1752e-04 - val_loss: 0.0164\n",
            "Epoch 19/100\n",
            "11/11 [==============================] - 3s 259ms/step - loss: 2.3692e-04 - val_loss: 0.0170\n",
            "Epoch 20/100\n",
            "11/11 [==============================] - 3s 257ms/step - loss: 2.2532e-04 - val_loss: 0.0160\n",
            "Epoch 21/100\n",
            "11/11 [==============================] - 3s 255ms/step - loss: 2.2816e-04 - val_loss: 0.0166\n",
            "Epoch 22/100\n",
            "11/11 [==============================] - 3s 254ms/step - loss: 2.3309e-04 - val_loss: 0.0160\n",
            "Epoch 23/100\n",
            "11/11 [==============================] - 3s 251ms/step - loss: 2.3881e-04 - val_loss: 0.0157\n",
            "Epoch 24/100\n",
            "11/11 [==============================] - 3s 256ms/step - loss: 1.9710e-04 - val_loss: 0.0162\n",
            "Epoch 25/100\n",
            "11/11 [==============================] - 3s 251ms/step - loss: 1.9111e-04 - val_loss: 0.0160\n",
            "Epoch 26/100\n",
            "11/11 [==============================] - 3s 254ms/step - loss: 1.8518e-04 - val_loss: 0.0160\n",
            "Epoch 27/100\n",
            "11/11 [==============================] - 3s 255ms/step - loss: 1.8897e-04 - val_loss: 0.0166\n",
            "Epoch 28/100\n",
            "11/11 [==============================] - 3s 250ms/step - loss: 1.9610e-04 - val_loss: 0.0164\n",
            "Epoch 29/100\n",
            "11/11 [==============================] - 3s 251ms/step - loss: 2.0317e-04 - val_loss: 0.0152\n",
            "Epoch 30/100\n",
            "11/11 [==============================] - 3s 251ms/step - loss: 2.2153e-04 - val_loss: 0.0164\n",
            "Epoch 31/100\n",
            "11/11 [==============================] - 3s 254ms/step - loss: 2.0333e-04 - val_loss: 0.0162\n",
            "Epoch 32/100\n",
            "11/11 [==============================] - 3s 251ms/step - loss: 1.8034e-04 - val_loss: 0.0154\n",
            "Epoch 33/100\n",
            "11/11 [==============================] - 3s 253ms/step - loss: 1.8074e-04 - val_loss: 0.0170\n",
            "Epoch 34/100\n",
            "11/11 [==============================] - 3s 250ms/step - loss: 1.8691e-04 - val_loss: 0.0158\n",
            "Epoch 35/100\n",
            "11/11 [==============================] - 3s 248ms/step - loss: 1.8539e-04 - val_loss: 0.0150\n",
            "Epoch 36/100\n",
            "11/11 [==============================] - 3s 255ms/step - loss: 2.0234e-04 - val_loss: 0.0170\n",
            "Epoch 37/100\n",
            "11/11 [==============================] - 3s 250ms/step - loss: 1.9835e-04 - val_loss: 0.0149\n",
            "Epoch 38/100\n",
            "11/11 [==============================] - 3s 249ms/step - loss: 2.1921e-04 - val_loss: 0.0148\n",
            "Epoch 39/100\n",
            "11/11 [==============================] - 3s 251ms/step - loss: 1.7588e-04 - val_loss: 0.0159\n",
            "Epoch 40/100\n",
            "11/11 [==============================] - 3s 254ms/step - loss: 1.7158e-04 - val_loss: 0.0149\n",
            "Epoch 41/100\n",
            "11/11 [==============================] - 3s 249ms/step - loss: 1.8105e-04 - val_loss: 0.0159\n",
            "Epoch 42/100\n",
            "11/11 [==============================] - 3s 250ms/step - loss: 1.7755e-04 - val_loss: 0.0150\n",
            "Epoch 43/100\n",
            "11/11 [==============================] - 3s 253ms/step - loss: 1.8398e-04 - val_loss: 0.0148\n",
            "Epoch 44/100\n",
            "11/11 [==============================] - 3s 261ms/step - loss: 1.6723e-04 - val_loss: 0.0157\n",
            "Epoch 45/100\n",
            "11/11 [==============================] - 3s 258ms/step - loss: 1.6961e-04 - val_loss: 0.0157\n",
            "Epoch 46/100\n",
            "11/11 [==============================] - 3s 257ms/step - loss: 1.6102e-04 - val_loss: 0.0155\n",
            "Epoch 47/100\n",
            "11/11 [==============================] - 3s 259ms/step - loss: 1.5889e-04 - val_loss: 0.0164\n",
            "Epoch 48/100\n",
            "11/11 [==============================] - 3s 259ms/step - loss: 1.6794e-04 - val_loss: 0.0145\n",
            "Epoch 49/100\n",
            "11/11 [==============================] - 3s 256ms/step - loss: 1.6049e-04 - val_loss: 0.0152\n",
            "Epoch 50/100\n",
            "11/11 [==============================] - 3s 258ms/step - loss: 1.5692e-04 - val_loss: 0.0146\n",
            "Epoch 51/100\n",
            "11/11 [==============================] - 3s 261ms/step - loss: 1.6073e-04 - val_loss: 0.0149\n",
            "Epoch 52/100\n",
            "11/11 [==============================] - 3s 259ms/step - loss: 1.6205e-04 - val_loss: 0.0142\n",
            "Epoch 53/100\n",
            "11/11 [==============================] - 3s 260ms/step - loss: 1.5872e-04 - val_loss: 0.0153\n",
            "Epoch 54/100\n",
            "11/11 [==============================] - 3s 260ms/step - loss: 1.6285e-04 - val_loss: 0.0151\n",
            "Epoch 55/100\n",
            "11/11 [==============================] - 3s 260ms/step - loss: 1.4826e-04 - val_loss: 0.0146\n",
            "Epoch 56/100\n",
            "11/11 [==============================] - 3s 259ms/step - loss: 1.5328e-04 - val_loss: 0.0152\n",
            "Epoch 57/100\n",
            "11/11 [==============================] - 3s 258ms/step - loss: 1.6140e-04 - val_loss: 0.0143\n",
            "Epoch 58/100\n",
            "11/11 [==============================] - 3s 259ms/step - loss: 1.5226e-04 - val_loss: 0.0140\n",
            "Epoch 59/100\n",
            "11/11 [==============================] - 3s 257ms/step - loss: 1.4595e-04 - val_loss: 0.0144\n",
            "Epoch 60/100\n",
            "11/11 [==============================] - 3s 260ms/step - loss: 1.4267e-04 - val_loss: 0.0145\n",
            "Epoch 61/100\n",
            "11/11 [==============================] - 3s 258ms/step - loss: 1.4259e-04 - val_loss: 0.0149\n",
            "Epoch 62/100\n",
            "11/11 [==============================] - 3s 260ms/step - loss: 1.6256e-04 - val_loss: 0.0132\n",
            "Epoch 63/100\n",
            "11/11 [==============================] - 3s 261ms/step - loss: 1.7059e-04 - val_loss: 0.0151\n",
            "Epoch 64/100\n",
            "11/11 [==============================] - 3s 259ms/step - loss: 1.7603e-04 - val_loss: 0.0140\n",
            "Epoch 65/100\n",
            "11/11 [==============================] - 3s 261ms/step - loss: 1.5571e-04 - val_loss: 0.0130\n",
            "Epoch 66/100\n",
            "11/11 [==============================] - 3s 260ms/step - loss: 1.6649e-04 - val_loss: 0.0142\n",
            "Epoch 67/100\n",
            "11/11 [==============================] - 3s 280ms/step - loss: 1.5447e-04 - val_loss: 0.0130\n",
            "Epoch 68/100\n",
            "11/11 [==============================] - 3s 280ms/step - loss: 1.4791e-04 - val_loss: 0.0151\n",
            "Epoch 69/100\n",
            "11/11 [==============================] - 3s 261ms/step - loss: 1.5747e-04 - val_loss: 0.0128\n",
            "Epoch 70/100\n",
            "11/11 [==============================] - 3s 263ms/step - loss: 1.5331e-04 - val_loss: 0.0144\n",
            "Epoch 71/100\n",
            "11/11 [==============================] - 3s 259ms/step - loss: 1.4621e-04 - val_loss: 0.0123\n",
            "Epoch 72/100\n",
            "11/11 [==============================] - 3s 261ms/step - loss: 1.4343e-04 - val_loss: 0.0148\n",
            "Epoch 73/100\n",
            "11/11 [==============================] - 3s 258ms/step - loss: 1.3396e-04 - val_loss: 0.0132\n",
            "Epoch 74/100\n",
            "11/11 [==============================] - 3s 259ms/step - loss: 1.3375e-04 - val_loss: 0.0137\n",
            "Epoch 75/100\n",
            "11/11 [==============================] - 3s 260ms/step - loss: 1.2668e-04 - val_loss: 0.0129\n",
            "Epoch 76/100\n",
            "11/11 [==============================] - 3s 259ms/step - loss: 1.3156e-04 - val_loss: 0.0122\n",
            "Epoch 77/100\n",
            "11/11 [==============================] - 3s 263ms/step - loss: 1.3263e-04 - val_loss: 0.0141\n",
            "Epoch 78/100\n",
            "11/11 [==============================] - 3s 261ms/step - loss: 1.2517e-04 - val_loss: 0.0120\n",
            "Epoch 79/100\n",
            "11/11 [==============================] - 3s 276ms/step - loss: 1.3169e-04 - val_loss: 0.0144\n",
            "Epoch 80/100\n",
            "11/11 [==============================] - 3s 277ms/step - loss: 1.3796e-04 - val_loss: 0.0131\n",
            "Epoch 81/100\n",
            "11/11 [==============================] - 3s 278ms/step - loss: 1.2119e-04 - val_loss: 0.0131\n",
            "Epoch 82/100\n",
            "11/11 [==============================] - 3s 276ms/step - loss: 1.2313e-04 - val_loss: 0.0124\n",
            "Epoch 83/100\n",
            "11/11 [==============================] - 3s 277ms/step - loss: 1.3587e-04 - val_loss: 0.0116\n",
            "Epoch 84/100\n",
            "11/11 [==============================] - 3s 279ms/step - loss: 1.7763e-04 - val_loss: 0.0127\n",
            "Epoch 85/100\n",
            "11/11 [==============================] - 3s 268ms/step - loss: 1.5561e-04 - val_loss: 0.0114\n",
            "Epoch 86/100\n",
            "11/11 [==============================] - 3s 264ms/step - loss: 1.2726e-04 - val_loss: 0.0138\n",
            "Epoch 87/100\n",
            "11/11 [==============================] - 3s 267ms/step - loss: 1.1761e-04 - val_loss: 0.0117\n",
            "Epoch 88/100\n",
            "11/11 [==============================] - 3s 261ms/step - loss: 1.1982e-04 - val_loss: 0.0114\n",
            "Epoch 89/100\n",
            "11/11 [==============================] - 3s 266ms/step - loss: 1.1625e-04 - val_loss: 0.0118\n",
            "Epoch 90/100\n",
            "11/11 [==============================] - 3s 263ms/step - loss: 1.1324e-04 - val_loss: 0.0109\n",
            "Epoch 91/100\n",
            "11/11 [==============================] - 3s 266ms/step - loss: 1.1199e-04 - val_loss: 0.0111\n",
            "Epoch 92/100\n",
            "11/11 [==============================] - 3s 267ms/step - loss: 1.1030e-04 - val_loss: 0.0103\n",
            "Epoch 93/100\n",
            "11/11 [==============================] - 3s 265ms/step - loss: 1.1481e-04 - val_loss: 0.0122\n",
            "Epoch 94/100\n",
            "11/11 [==============================] - 3s 261ms/step - loss: 1.0946e-04 - val_loss: 0.0111\n",
            "Epoch 95/100\n",
            "11/11 [==============================] - 3s 266ms/step - loss: 1.1148e-04 - val_loss: 0.0134\n",
            "Epoch 96/100\n",
            "11/11 [==============================] - 3s 267ms/step - loss: 1.1058e-04 - val_loss: 0.0107\n",
            "Epoch 97/100\n",
            "11/11 [==============================] - 3s 267ms/step - loss: 1.1004e-04 - val_loss: 0.0112\n",
            "Epoch 98/100\n",
            "11/11 [==============================] - 3s 261ms/step - loss: 1.0959e-04 - val_loss: 0.0116\n",
            "Epoch 99/100\n",
            "11/11 [==============================] - 3s 266ms/step - loss: 1.0457e-04 - val_loss: 0.0130\n",
            "Epoch 100/100\n",
            "11/11 [==============================] - 3s 261ms/step - loss: 1.0611e-04 - val_loss: 0.0109\n"
          ],
          "name": "stdout"
        },
        {
          "output_type": "execute_result",
          "data": {
            "text/plain": [
              "<tensorflow.python.keras.callbacks.History at 0x7f6f77de7b70>"
            ]
          },
          "metadata": {
            "tags": []
          },
          "execution_count": 72
        }
      ]
    },
    {
      "cell_type": "code",
      "metadata": {
        "id": "adG7BAh9T52M"
      },
      "source": [
        "import tensorflow as tf"
      ],
      "execution_count": null,
      "outputs": []
    },
    {
      "cell_type": "code",
      "metadata": {
        "colab": {
          "base_uri": "https://localhost:8080/",
          "height": 35
        },
        "id": "D1Gu8eNpUd3u",
        "outputId": "88078cb4-91b8-4cb5-8c00-a2e2073dd7c3"
      },
      "source": [
        "tf.__version__"
      ],
      "execution_count": null,
      "outputs": [
        {
          "output_type": "execute_result",
          "data": {
            "application/vnd.google.colaboratory.intrinsic+json": {
              "type": "string"
            },
            "text/plain": [
              "'2.3.0'"
            ]
          },
          "metadata": {
            "tags": []
          },
          "execution_count": 74
        }
      ]
    },
    {
      "cell_type": "code",
      "metadata": {
        "id": "Inm2N12OVJRr",
        "colab": {
          "base_uri": "https://localhost:8080/"
        },
        "outputId": "52a5e7cf-cb2b-488e-c5d6-bdc3a1b0cefe"
      },
      "source": [
        "train_predict=model.predict(X_train)\n",
        "test_predict=model.predict(X_test)\n"
      ],
      "execution_count": null,
      "outputs": [
        {
          "output_type": "stream",
          "text": [
            "WARNING:tensorflow:Model was constructed with shape (None, 100, 1) for input Tensor(\"lstm_6_input:0\", shape=(None, 100, 1), dtype=float32), but it was called on an input with incompatible shape (None, 150, 1).\n"
          ],
          "name": "stdout"
        }
      ]
    },
    {
      "cell_type": "code",
      "metadata": {
        "id": "PRY6rLa6Xu-k"
      },
      "source": [
        "train_predict=scalar.inverse_transform(train_predict)\n",
        "test_predict=scalar.inverse_transform(test_predict)\n"
      ],
      "execution_count": null,
      "outputs": []
    },
    {
      "cell_type": "code",
      "metadata": {
        "colab": {
          "base_uri": "https://localhost:8080/"
        },
        "id": "-qzY4kJBYc3L",
        "outputId": "f2cf9142-504e-41bc-8258-2a5a157a732a"
      },
      "source": [
        "import math\n",
        "from sklearn.metrics import mean_squared_error\n",
        "math.sqrt(mean_squared_error(y_train,train_predict))"
      ],
      "execution_count": null,
      "outputs": [
        {
          "output_type": "execute_result",
          "data": {
            "text/plain": [
              "161.3150389518829"
            ]
          },
          "metadata": {
            "tags": []
          },
          "execution_count": 77
        }
      ]
    },
    {
      "cell_type": "code",
      "metadata": {
        "colab": {
          "base_uri": "https://localhost:8080/"
        },
        "id": "efYD2zaeZTeG",
        "outputId": "44498e42-21aa-47bd-d929-f0239bc97e98"
      },
      "source": [
        "math.sqrt(mean_squared_error(y_test,test_predict))"
      ],
      "execution_count": null,
      "outputs": [
        {
          "output_type": "execute_result",
          "data": {
            "text/plain": [
              "264.08251255496725"
            ]
          },
          "metadata": {
            "tags": []
          },
          "execution_count": 78
        }
      ]
    },
    {
      "cell_type": "code",
      "metadata": {
        "colab": {
          "base_uri": "https://localhost:8080/",
          "height": 265
        },
        "id": "gzxuvPBEbc2J",
        "outputId": "fdbc51bd-0a88-4221-9d0f-71dbd0f2157b"
      },
      "source": [
        "look_back=150\n",
        "trainpredictplot=numpy.empty_like(df1)\n",
        "trainpredictplot[:,:]=np.nan\n",
        "trainpredictplot[look_back:len(train_predict)+look_back,:] = train_predict\n",
        "testpredictplot = numpy.empty_like(df1)\n",
        "testpredictplot[len(train_predict)+(look_back*2)+1:len(df1)-1,:]=test_predict\n",
        "plt.plot(scalar.inverse_transform(df1))\n",
        "plt.plot(trainpredictplot)\n",
        "plt.plot(testpredictplot)\n",
        "plt.show()\n"
      ],
      "execution_count": null,
      "outputs": [
        {
          "output_type": "display_data",
          "data": {
            "image/png": "[encoded data removed]",
            "text/plain": [
              "<Figure size 432x288 with 1 Axes>"
            ]
          },
          "metadata": {
            "tags": [],
            "needs_background": "light"
          }
        }
      ]
    },
    {
      "cell_type": "code",
      "metadata": {
        "colab": {
          "base_uri": "https://localhost:8080/"
        },
        "id": "UKSQNw1DdIws",
        "outputId": "4a9c4a4b-80e4-46e6-f1cd-dae09f912c7e"
      },
      "source": [
        "x_input=test_data[290:].reshape(1,-1)\n",
        "x_input.shape"
      ],
      "execution_count": null,
      "outputs": [
        {
          "output_type": "execute_result",
          "data": {
            "text/plain": [
              "(1, 150)"
            ]
          },
          "metadata": {
            "tags": []
          },
          "execution_count": 80
        }
      ]
    },
    {
      "cell_type": "code",
      "metadata": {
        "colab": {
          "base_uri": "https://localhost:8080/"
        },
        "id": "gTc-lIl5ZEj0",
        "outputId": "6bec1b99-ff02-4c45-8996-284600d9e040"
      },
      "source": [
        "len(test_data)"
      ],
      "execution_count": null,
      "outputs": [
        {
          "output_type": "execute_result",
          "data": {
            "text/plain": [
              "440"
            ]
          },
          "metadata": {
            "tags": []
          },
          "execution_count": 81
        }
      ]
    },
    {
      "cell_type": "code",
      "metadata": {
        "id": "FXlHWa4MdqoN"
      },
      "source": [
        "\n",
        "temp_input=list(x_input)\n",
        "temp_input=temp_input[0].tolist()\n"
      ],
      "execution_count": null,
      "outputs": []
    },
    {
      "cell_type": "code",
      "metadata": {
        "colab": {
          "base_uri": "https://localhost:8080/"
        },
        "id": "Zw7J0nytdq9G",
        "outputId": "15f537e1-040b-4ad8-a2f2-aa991de800a2"
      },
      "source": [
        "from numpy import array\n",
        "\n",
        "lst_output=[]\n",
        "n_steps=149\n",
        "i=0\n",
        "while(i<100):\n",
        "  if(len(temp_input)>100):\n",
        "    x_input=np.array(temp_input[1:])\n",
        "    x_input=x_input.reshape(1,-1)\n",
        "    x_input=x_input.reshape(1,n_steps,1)\n",
        "    yhat=model.predict(x_input,verbose=0)\n",
        "    print('{} day output{}'.format(i,yhat))\n",
        "    temp_input.extend(yhat[0].tolist())\n",
        "    temp_input=temp_input[1:]\n",
        "    lst_output.extend(yhat.tolist())\n",
        "    i=i+1\n",
        "  else:\n",
        "    x_input=x_input.reshape(1,n_steps,1)\n",
        "    yhat=model.predict(x_input,verbose=0)\n",
        "    print(yhat[0])\n",
        "    temp_input.extend(yhat[0].tolist())\n",
        "    print(len(temp_input))\n",
        "    lst_output.extend(yhat.tolist())\n",
        "    i=i+1\n",
        "print(lst_output)\n",
        "\n",
        "\n",
        "\n"
      ],
      "execution_count": null,
      "outputs": [
        {
          "output_type": "stream",
          "text": [
            "0 day output[[0.10285261]]\n",
            "1 day output[[0.10311386]]\n",
            "2 day output[[0.10337485]]\n",
            "3 day output[[0.10363556]]\n",
            "4 day output[[0.10389602]]\n",
            "5 day output[[0.1041562]]\n",
            "6 day output[[0.1044161]]\n",
            "7 day output[[0.10467576]]\n",
            "8 day output[[0.10493513]]\n",
            "9 day output[[0.10519424]]\n",
            "10 day output[[0.10545308]]\n",
            "11 day output[[0.10571167]]\n",
            "12 day output[[0.10596998]]\n",
            "13 day output[[0.10622804]]\n",
            "14 day output[[0.10648585]]\n",
            "15 day output[[0.10674336]]\n",
            "16 day output[[0.10700063]]\n",
            "17 day output[[0.10725763]]\n",
            "18 day output[[0.10751437]]\n",
            "19 day output[[0.10777084]]\n",
            "20 day output[[0.10802706]]\n",
            "21 day output[[0.10828302]]\n",
            "22 day output[[0.10853874]]\n",
            "23 day output[[0.10879414]]\n",
            "24 day output[[0.10904932]]\n",
            "25 day output[[0.10930426]]\n",
            "26 day output[[0.10955892]]\n",
            "27 day output[[0.1098133]]\n",
            "28 day output[[0.11006743]]\n",
            "29 day output[[0.11032134]]\n",
            "30 day output[[0.11057495]]\n",
            "31 day output[[0.11082833]]\n",
            "32 day output[[0.11108144]]\n",
            "33 day output[[0.11133429]]\n",
            "34 day output[[0.11158689]]\n",
            "35 day output[[0.11183924]]\n",
            "36 day output[[0.11209131]]\n",
            "37 day output[[0.11234315]]\n",
            "38 day output[[0.11259473]]\n",
            "39 day output[[0.11284605]]\n",
            "40 day output[[0.11309713]]\n",
            "41 day output[[0.11334793]]\n",
            "42 day output[[0.11359849]]\n",
            "43 day output[[0.11384878]]\n",
            "44 day output[[0.11409885]]\n",
            "45 day output[[0.11434864]]\n",
            "46 day output[[0.11459819]]\n",
            "47 day output[[0.1148475]]\n",
            "48 day output[[0.11509652]]\n",
            "49 day output[[0.11534532]]\n",
            "50 day output[[0.11559384]]\n",
            "51 day output[[0.11584216]]\n",
            "52 day output[[0.11609017]]\n",
            "53 day output[[0.11633795]]\n",
            "54 day output[[0.11658548]]\n",
            "55 day output[[0.11683275]]\n",
            "56 day output[[0.11707979]]\n",
            "57 day output[[0.11732655]]\n",
            "58 day output[[0.11757307]]\n",
            "59 day output[[0.11781933]]\n",
            "60 day output[[0.11806536]]\n",
            "61 day output[[0.1183111]]\n",
            "62 day output[[0.11855663]]\n",
            "63 day output[[0.11880189]]\n",
            "64 day output[[0.11904691]]\n",
            "65 day output[[0.11929163]]\n",
            "66 day output[[0.11953617]]\n",
            "67 day output[[0.11978042]]\n",
            "68 day output[[0.12002444]]\n",
            "69 day output[[0.1202682]]\n",
            "70 day output[[0.1205117]]\n",
            "71 day output[[0.12075496]]\n",
            "72 day output[[0.12099794]]\n",
            "73 day output[[0.12124071]]\n",
            "74 day output[[0.12148322]]\n",
            "75 day output[[0.12172548]]\n",
            "76 day output[[0.12196746]]\n",
            "77 day output[[0.12220921]]\n",
            "78 day output[[0.12245072]]\n",
            "79 day output[[0.12269196]]\n",
            "80 day output[[0.12293298]]\n",
            "81 day output[[0.12317372]]\n",
            "82 day output[[0.12341421]]\n",
            "83 day output[[0.12365445]]\n",
            "84 day output[[0.12389445]]\n",
            "85 day output[[0.12413419]]\n",
            "86 day output[[0.12437369]]\n",
            "87 day output[[0.12461293]]\n",
            "88 day output[[0.12485191]]\n",
            "89 day output[[0.12509064]]\n",
            "90 day output[[0.12532914]]\n",
            "91 day output[[0.12556735]]\n",
            "92 day output[[0.12580532]]\n",
            "93 day output[[0.12604307]]\n",
            "94 day output[[0.12628055]]\n",
            "95 day output[[0.12651774]]\n",
            "96 day output[[0.12675473]]\n",
            "97 day output[[0.12699144]]\n",
            "98 day output[[0.1272279]]\n",
            "99 day output[[0.12746409]]\n",
            "[[0.10285261273384094], [0.10311385989189148], [0.10337484627962112], [0.10363556444644928], [0.10389602184295654], [0.10415619611740112], [0.10441610217094421], [0.1046757623553276], [0.10493513196706772], [0.10519424080848694], [0.10545308142900467], [0.1057116687297821], [0.10596998035907745], [0.10622803866863251], [0.10648585110902786], [0.10674335807561874], [0.10700063407421112], [0.10725762695074081], [0.10751437395811081], [0.10777083784341812], [0.10802706331014633], [0.10828302055597305], [0.10853873938322067], [0.10879413783550262], [0.10904932022094727], [0.10930425673723221], [0.10955891758203506], [0.10981329530477524], [0.11006742715835571], [0.11032133549451828], [0.11057495325803757], [0.11082832515239716], [0.11108143627643585], [0.11133429408073425], [0.11158689111471176], [0.11183924227952957], [0.1120913103222847], [0.11234315484762192], [0.11259473115205765], [0.11284604668617249], [0.11309713125228882], [0.11334793269634247], [0.11359848827123642], [0.11384877562522888], [0.11409884691238403], [0.1143486350774765], [0.11459819227457047], [0.11484750360250473], [0.11509652435779572], [0.11534532159566879], [0.11559383571147919], [0.11584215611219406], [0.11609017103910446], [0.11633795499801636], [0.11658547818660736], [0.11683274805545807], [0.11707978695631027], [0.11732655018568039], [0.11757306754589081], [0.11781933158636093], [0.11806536465883255], [0.11831109970808029], [0.11855663359165192], [0.11880189180374146], [0.11904691159725189], [0.11929163336753845], [0.11953616887331009], [0.11978042125701904], [0.1200244352221489], [0.12026820331811905], [0.12051169574260712], [0.12075495719909668], [0.12099794298410416], [0.12124070525169373], [0.1214832216501236], [0.12172547727823257], [0.12196746468544006], [0.12220920622348785], [0.12245072424411774], [0.12269195914268494], [0.12293297797441483], [0.12317372113466263], [0.12341421097517014], [0.12365445494651794], [0.12389445304870605], [0.12413419038057327], [0.12437368929386139], [0.12461292743682861], [0.12485191226005554], [0.12509064376354218], [0.1253291368484497], [0.12556734681129456], [0.1258053183555603], [0.12604306638240814], [0.1262805461883545], [0.12651774287223816], [0.1267547309398651], [0.12699143588542938], [0.12722790241241455], [0.12746408581733704]]\n"
          ],
          "name": "stdout"
        }
      ]
    },
    {
      "cell_type": "code",
      "metadata": {
        "id": "9_GFs-ZRdrLZ"
      },
      "source": [
        "day_new=np.arange(1,150)\n",
        "day_pred=np.arange(150,130)\n"
      ],
      "execution_count": null,
      "outputs": []
    },
    {
      "cell_type": "code",
      "metadata": {
        "id": "O4aA5P2JdrYF"
      },
      "source": [
        "import matplotlib.pyplot as plt\n"
      ],
      "execution_count": null,
      "outputs": []
    },
    {
      "cell_type": "code",
      "metadata": {
        "id": "xIswVsOUdruB"
      },
      "source": [
        "df3=df1.tolist()\n",
        "df3.extend(lst_output)"
      ],
      "execution_count": null,
      "outputs": []
    },
    {
      "cell_type": "code",
      "metadata": {
        "id": "NPA908i3hY6j"
      },
      "source": [
        ""
      ],
      "execution_count": null,
      "outputs": []
    },
    {
      "cell_type": "code",
      "metadata": {
        "colab": {
          "base_uri": "https://localhost:8080/",
          "height": 572
        },
        "id": "rvyDUaMFhZTG",
        "outputId": "a518cdb8-76f5-4fb7-b5f7-bdce5f9304b5"
      },
      "source": [
        "plt.plot(day_new,scalar.inverse_transform(df1[1108:]))\n",
        "plt.plot(day_pred,scalar.inverse_transform(lst_output))\n"
      ],
      "execution_count": null,
      "outputs": [
        {
          "output_type": "error",
          "ename": "ValueError",
          "evalue": "ignored",
          "traceback": [
            "\u001b[0;31m---------------------------------------------------------------------------\u001b[0m",
            "\u001b[0;31mValueError\u001b[0m                                Traceback (most recent call last)",
            "\u001b[0;32m<ipython-input-91-a5b7f43c951a>\u001b[0m in \u001b[0;36m<module>\u001b[0;34m()\u001b[0m\n\u001b[1;32m      1\u001b[0m \u001b[0mplt\u001b[0m\u001b[0;34m.\u001b[0m\u001b[0mplot\u001b[0m\u001b[0;34m(\u001b[0m\u001b[0mday_new\u001b[0m\u001b[0;34m,\u001b[0m\u001b[0mscalar\u001b[0m\u001b[0;34m.\u001b[0m\u001b[0minverse_transform\u001b[0m\u001b[0;34m(\u001b[0m\u001b[0mdf1\u001b[0m\u001b[0;34m[\u001b[0m\u001b[0;36m1108\u001b[0m\u001b[0;34m:\u001b[0m\u001b[0;34m]\u001b[0m\u001b[0;34m)\u001b[0m\u001b[0;34m)\u001b[0m\u001b[0;34m\u001b[0m\u001b[0;34m\u001b[0m\u001b[0m\n\u001b[0;32m----> 2\u001b[0;31m \u001b[0mplt\u001b[0m\u001b[0;34m.\u001b[0m\u001b[0mplot\u001b[0m\u001b[0;34m(\u001b[0m\u001b[0mday_pred\u001b[0m\u001b[0;34m,\u001b[0m\u001b[0mscalar\u001b[0m\u001b[0;34m.\u001b[0m\u001b[0minverse_transform\u001b[0m\u001b[0;34m(\u001b[0m\u001b[0mlst_output\u001b[0m\u001b[0;34m)\u001b[0m\u001b[0;34m)\u001b[0m\u001b[0;34m\u001b[0m\u001b[0;34m\u001b[0m\u001b[0m\n\u001b[0m",
            "\u001b[0;32m/usr/local/lib/python3.6/dist-packages/matplotlib/pyplot.py\u001b[0m in \u001b[0;36mplot\u001b[0;34m(scalex, scaley, data, *args, **kwargs)\u001b[0m\n\u001b[1;32m   2761\u001b[0m     return gca().plot(\n\u001b[1;32m   2762\u001b[0m         *args, scalex=scalex, scaley=scaley, **({\"data\": data} if data\n\u001b[0;32m-> 2763\u001b[0;31m         is not None else {}), **kwargs)\n\u001b[0m\u001b[1;32m   2764\u001b[0m \u001b[0;34m\u001b[0m\u001b[0m\n\u001b[1;32m   2765\u001b[0m \u001b[0;34m\u001b[0m\u001b[0m\n",
            "\u001b[0;32m/usr/local/lib/python3.6/dist-packages/matplotlib/axes/_axes.py\u001b[0m in \u001b[0;36mplot\u001b[0;34m(self, scalex, scaley, data, *args, **kwargs)\u001b[0m\n\u001b[1;32m   1645\u001b[0m         \"\"\"\n\u001b[1;32m   1646\u001b[0m         \u001b[0mkwargs\u001b[0m \u001b[0;34m=\u001b[0m \u001b[0mcbook\u001b[0m\u001b[0;34m.\u001b[0m\u001b[0mnormalize_kwargs\u001b[0m\u001b[0;34m(\u001b[0m\u001b[0mkwargs\u001b[0m\u001b[0;34m,\u001b[0m \u001b[0mmlines\u001b[0m\u001b[0;34m.\u001b[0m\u001b[0mLine2D\u001b[0m\u001b[0;34m)\u001b[0m\u001b[0;34m\u001b[0m\u001b[0;34m\u001b[0m\u001b[0m\n\u001b[0;32m-> 1647\u001b[0;31m         \u001b[0mlines\u001b[0m \u001b[0;34m=\u001b[0m \u001b[0;34m[\u001b[0m\u001b[0;34m*\u001b[0m\u001b[0mself\u001b[0m\u001b[0;34m.\u001b[0m\u001b[0m_get_lines\u001b[0m\u001b[0;34m(\u001b[0m\u001b[0;34m*\u001b[0m\u001b[0margs\u001b[0m\u001b[0;34m,\u001b[0m \u001b[0mdata\u001b[0m\u001b[0;34m=\u001b[0m\u001b[0mdata\u001b[0m\u001b[0;34m,\u001b[0m \u001b[0;34m**\u001b[0m\u001b[0mkwargs\u001b[0m\u001b[0;34m)\u001b[0m\u001b[0;34m]\u001b[0m\u001b[0;34m\u001b[0m\u001b[0;34m\u001b[0m\u001b[0m\n\u001b[0m\u001b[1;32m   1648\u001b[0m         \u001b[0;32mfor\u001b[0m \u001b[0mline\u001b[0m \u001b[0;32min\u001b[0m \u001b[0mlines\u001b[0m\u001b[0;34m:\u001b[0m\u001b[0;34m\u001b[0m\u001b[0;34m\u001b[0m\u001b[0m\n\u001b[1;32m   1649\u001b[0m             \u001b[0mself\u001b[0m\u001b[0;34m.\u001b[0m\u001b[0madd_line\u001b[0m\u001b[0;34m(\u001b[0m\u001b[0mline\u001b[0m\u001b[0;34m)\u001b[0m\u001b[0;34m\u001b[0m\u001b[0;34m\u001b[0m\u001b[0m\n",
            "\u001b[0;32m/usr/local/lib/python3.6/dist-packages/matplotlib/axes/_base.py\u001b[0m in \u001b[0;36m__call__\u001b[0;34m(self, *args, **kwargs)\u001b[0m\n\u001b[1;32m    214\u001b[0m                 \u001b[0mthis\u001b[0m \u001b[0;34m+=\u001b[0m \u001b[0margs\u001b[0m\u001b[0;34m[\u001b[0m\u001b[0;36m0\u001b[0m\u001b[0;34m]\u001b[0m\u001b[0;34m,\u001b[0m\u001b[0;34m\u001b[0m\u001b[0;34m\u001b[0m\u001b[0m\n\u001b[1;32m    215\u001b[0m                 \u001b[0margs\u001b[0m \u001b[0;34m=\u001b[0m \u001b[0margs\u001b[0m\u001b[0;34m[\u001b[0m\u001b[0;36m1\u001b[0m\u001b[0;34m:\u001b[0m\u001b[0;34m]\u001b[0m\u001b[0;34m\u001b[0m\u001b[0;34m\u001b[0m\u001b[0m\n\u001b[0;32m--> 216\u001b[0;31m             \u001b[0;32myield\u001b[0m \u001b[0;32mfrom\u001b[0m \u001b[0mself\u001b[0m\u001b[0;34m.\u001b[0m\u001b[0m_plot_args\u001b[0m\u001b[0;34m(\u001b[0m\u001b[0mthis\u001b[0m\u001b[0;34m,\u001b[0m \u001b[0mkwargs\u001b[0m\u001b[0;34m)\u001b[0m\u001b[0;34m\u001b[0m\u001b[0;34m\u001b[0m\u001b[0m\n\u001b[0m\u001b[1;32m    217\u001b[0m \u001b[0;34m\u001b[0m\u001b[0m\n\u001b[1;32m    218\u001b[0m     \u001b[0;32mdef\u001b[0m \u001b[0mget_next_color\u001b[0m\u001b[0;34m(\u001b[0m\u001b[0mself\u001b[0m\u001b[0;34m)\u001b[0m\u001b[0;34m:\u001b[0m\u001b[0;34m\u001b[0m\u001b[0;34m\u001b[0m\u001b[0m\n",
            "\u001b[0;32m/usr/local/lib/python3.6/dist-packages/matplotlib/axes/_base.py\u001b[0m in \u001b[0;36m_plot_args\u001b[0;34m(self, tup, kwargs)\u001b[0m\n\u001b[1;32m    340\u001b[0m \u001b[0;34m\u001b[0m\u001b[0m\n\u001b[1;32m    341\u001b[0m         \u001b[0;32mif\u001b[0m \u001b[0mx\u001b[0m\u001b[0;34m.\u001b[0m\u001b[0mshape\u001b[0m\u001b[0;34m[\u001b[0m\u001b[0;36m0\u001b[0m\u001b[0;34m]\u001b[0m \u001b[0;34m!=\u001b[0m \u001b[0my\u001b[0m\u001b[0;34m.\u001b[0m\u001b[0mshape\u001b[0m\u001b[0;34m[\u001b[0m\u001b[0;36m0\u001b[0m\u001b[0;34m]\u001b[0m\u001b[0;34m:\u001b[0m\u001b[0;34m\u001b[0m\u001b[0;34m\u001b[0m\u001b[0m\n\u001b[0;32m--> 342\u001b[0;31m             raise ValueError(f\"x and y must have same first dimension, but \"\n\u001b[0m\u001b[1;32m    343\u001b[0m                              f\"have shapes {x.shape} and {y.shape}\")\n\u001b[1;32m    344\u001b[0m         \u001b[0;32mif\u001b[0m \u001b[0mx\u001b[0m\u001b[0;34m.\u001b[0m\u001b[0mndim\u001b[0m \u001b[0;34m>\u001b[0m \u001b[0;36m2\u001b[0m \u001b[0;32mor\u001b[0m \u001b[0my\u001b[0m\u001b[0;34m.\u001b[0m\u001b[0mndim\u001b[0m \u001b[0;34m>\u001b[0m \u001b[0;36m2\u001b[0m\u001b[0;34m:\u001b[0m\u001b[0;34m\u001b[0m\u001b[0;34m\u001b[0m\u001b[0m\n",
            "\u001b[0;31mValueError\u001b[0m: x and y must have same first dimension, but have shapes (0,) and (100, 1)"
          ]
        },
        {
          "output_type": "display_data",
          "data": {
            "image/png": "[encoded data removed]",
            "text/plain": [
              "<Figure size 432x288 with 1 Axes>"
            ]
          },
          "metadata": {
            "tags": [],
            "needs_background": "light"
          }
        }
      ]
    },
    {
      "cell_type": "code",
      "metadata": {
        "colab": {
          "base_uri": "https://localhost:8080/",
          "height": 282
        },
        "id": "H5NZa5gqVvTb",
        "outputId": "43c80b08-65c0-4503-b35c-e1baf87ffd13"
      },
      "source": [
        "df3=df1.tolist()\n",
        "df3.extend(lst_output)\n",
        "plt.plot(df3[1000:])"
      ],
      "execution_count": null,
      "outputs": [
        {
          "output_type": "execute_result",
          "data": {
            "text/plain": [
              "[<matplotlib.lines.Line2D at 0x7f6f74d29a58>]"
            ]
          },
          "metadata": {
            "tags": []
          },
          "execution_count": 92
        },
        {
          "output_type": "display_data",
          "data": {
            "image/png": "[encoded data removed]",
            "text/plain": [
              "<Figure size 432x288 with 1 Axes>"
            ]
          },
          "metadata": {
            "tags": [],
            "needs_background": "light"
          }
        }
      ]
    },
    {
      "cell_type": "code",
      "metadata": {
        "id": "_a5Rq-mEdBUM"
      },
      "source": [
        ""
      ],
      "execution_count": null,
      "outputs": []
    }
  ]
}